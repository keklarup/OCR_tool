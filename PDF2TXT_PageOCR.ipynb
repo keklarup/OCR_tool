{
 "cells": [
  {
   "cell_type": "markdown",
   "metadata": {},
   "source": [
    "# PDF Data Extraction Notebook -- Full OCR\n",
    "\n",
    "#### This notebook demonstrates how to extract text from a PDF using Ghostscript and Tesseract. \n",
    "\n",
    "### Pipeline:\n",
    "1. Given pdf, convert into images with ghostscript\n",
    "2. Given an image, extract text using Tesseract.\n",
    "3. (Optional) Identify desired data from extracted text using bookend instruction language.\n",
    "\n",
    "### Tools:\n",
    "* ghostscript -- to convert pdfs to images so that they can be OCR'd.\n",
    "* tesseract -- to extract text from images\n",
    "* python -- glue to run ghostscript, tesseract, perform image manipulations, and compile results\n",
    "\n",
    "#### The main features of this notebook (converting PDFs to PNGs and OCRing PNGs to extract text) are not done by Python. They are being done by command line tools GhostScript and Tesseract. Those need to be installed before this notebook will do anything.\n",
    "\n",
    "Starter places for easy installs of those tools:\n",
    "1. Tesseract: https://github.com/UB-Mannheim/tesseract/wiki -- A full installer for Windows. But hosted outside the US. Domestic installers for older versions of Tesseract may be found here: https://github.com/tesseract-ocr/tesseract/wiki/4.0-with-LSTM#400-alpha-for-windows\n",
    "\n",
    "2. Ghostscript: https://www.ghostscript.com/download/gsdnld.html\n",
    "\n",
    "#### Ghostscript and Tesseract where both installed on a Windows 10 laptop when creating this demo. The tools were installed in subfolders of this projects folder. When being called by the Python OS package in the code below, the relative filepath is being given to the executable application files. "
   ]
  },
  {
   "cell_type": "markdown",
   "metadata": {},
   "source": [
    "## 0. Importing required Python packages."
   ]
  },
  {
   "cell_type": "code",
   "execution_count": 1,
   "metadata": {},
   "outputs": [],
   "source": [
    "import os #for navigating folder structures and running command line tools ghostscript and tesseract\n",
    "import matplotlib.pyplot as plt #for visualizing steps in this notebook\n",
    "from PIL import Image #for visualizing results\n",
    "import tempfile\n",
    "import numpy as np #for some image manipulation"
   ]
  },
  {
   "cell_type": "markdown",
   "metadata": {},
   "source": [
    "Because this process can create a lot of intermediate files, creating a temp directory for those to make clean up easier after completion."
   ]
  },
  {
   "cell_type": "code",
   "execution_count": 2,
   "metadata": {},
   "outputs": [],
   "source": [
    "tempDir=tempfile.mkdtemp(dir=os.getcwd())"
   ]
  },
  {
   "cell_type": "markdown",
   "metadata": {},
   "source": [
    "## 1. Convert a PDF into image(s)\n",
    "\n",
    "Tesseract works on images, so the first step needs to be converting the PDFs into images. If the PDF is multipage, we want to have access to each of those pages, so we'll save each page as its own file. When working with a collection of, say, 100+ page PDFs, this can quickly generate a huge amount of image data. For those production level processes, the images should be deleted after OCRing to reduce storage issues.\n",
    "\n",
    "GhostScript is the command line tool I will use to convert the PDF into PNGs. Ghostscript has additional options than those shown here (see https://www.ghostscript.com/doc/current/Use.htm ). The ones used here:\n",
    "\n",
    "* -sDEVICE -- Tell ghostscript what to convert the PDF into. In this case, PNGs.\n",
    "* -sOutputFile -- The filepath and name of image to save.\n",
    "* -dBATCH -- Quit ghostscript after completing the batch of 1+ PDF to PNG conversions.\n",
    "* -dNOPAUSE -- Skip any user prompts that Ghostscript would normally ask for when running as command line tool.\n",
    "* -rnumber -- Hor. and ver. resolution in pixels per inch. Higher number--> more detail and often better OCR, but Ghostscript takes longer.\n",
    "* The final option is the input PDF file to convert.\n",
    "\n",
    "Below, making use the of %s string variable to insert the filepaths for the location to save the image(s) and the location of the original PDF."
   ]
  },
  {
   "cell_type": "code",
   "execution_count": 3,
   "metadata": {},
   "outputs": [
    {
     "data": {
      "text/plain": [
       "['claim-form-cms-1500-filled.pdf',\n",
       " 'claim-form-cms-1500.pdf',\n",
       " 'f1040.pdf',\n",
       " 'form-or-stt-1_206-003_2018.pdf',\n",
       " 'OTC-Payment-Voucher.pdf']"
      ]
     },
     "execution_count": 3,
     "metadata": {},
     "output_type": "execute_result"
    }
   ],
   "source": [
    "os.listdir('examplePDFs')"
   ]
  },
  {
   "cell_type": "code",
   "execution_count": 4,
   "metadata": {},
   "outputs": [],
   "source": [
    "#target pdf. Currently being pulled from the examples included in the GitHub project.\n",
    "targetPDF=os.path.join('examplePDFs','f1040.pdf')"
   ]
  },
  {
   "cell_type": "code",
   "execution_count": 5,
   "metadata": {},
   "outputs": [],
   "source": [
    "#save location:\n",
    "PDFImages=os.path.join(tempDir, 'PDFImages')\n",
    "try:\n",
    "    os.mkdir(PDFImages)\n",
    "except:\n",
    "    print('directory already exists. Cleaning out for next data run')\n",
    "    for file in os.listdir(PDFImages):\n",
    "        os.remove(os.path.join(PDFImages, file))\n",
    "imageSave=os.path.join(PDFImages,\n",
    "                       '.'.join(os.path.basename(targetPDF).split('.')[:-1])+'-%03d.png') #add page number for multipage PDFs when creating images."
   ]
  },
  {
   "cell_type": "code",
   "execution_count": 6,
   "metadata": {},
   "outputs": [
    {
     "name": "stdout",
     "output_type": "stream",
     "text": [
      "GPL Ghostscript 9.27 (2019-04-04)\n",
      "Copyright (C) 2018 Artifex Software, Inc.  All rights reserved.\n",
      "This software is supplied under the GNU AGPLv3 and comes with NO WARRANTY:\n",
      "see the file COPYING for details.\n",
      "Processing pages 1 through 2.\n",
      "Page 1\n",
      "Page 2\n",
      "\n"
     ]
    }
   ],
   "source": [
    "p = os.popen(\"GhostScript\\\\gs9.27\\\\bin\\\\gswin64c.exe -sDEVICE=pngalpha -sOutputFile=%s -dBATCH -dNOPAUSE -r288 %s\"%(imageSave, targetPDF))\n",
    "print(p.read())"
   ]
  },
  {
   "cell_type": "markdown",
   "metadata": {},
   "source": [
    "## 1.5 Visualize the converted image:"
   ]
  },
  {
   "cell_type": "code",
   "execution_count": 7,
   "metadata": {},
   "outputs": [
    {
     "data": {
      "text/plain": [
       "<matplotlib.image.AxesImage at 0x16039b26400>"
      ]
     },
     "execution_count": 7,
     "metadata": {},
     "output_type": "execute_result"
    },
    {
     "data": {
      "image/png": "[encoded data removed]",
      "text/plain": [
       "<Figure size 864x576 with 1 Axes>"
      ]
     },
     "metadata": {
      "needs_background": "light"
     },
     "output_type": "display_data"
    }
   ],
   "source": [
    "targetImage='f1040-001.png'\n",
    "targetImage=os.path.join(PDFImages, targetImage)\n",
    "im = Image.open(targetImage)\n",
    "plt.figure(figsize=(12,8))\n",
    "plt.imshow(np.array(im))"
   ]
  },
  {
   "cell_type": "markdown",
   "metadata": {},
   "source": [
    "## 2. OCRing the whole image:\n",
    "\n",
    "Now that we have an image of the page(s) of the PDF, Tesseract can transcribe all the text found on the images into .txt files"
   ]
  },
  {
   "cell_type": "code",
   "execution_count": 8,
   "metadata": {},
   "outputs": [],
   "source": [
    "#save location:\n",
    "PDFText=os.path.join(tempDir, 'PDFText')\n",
    "try:\n",
    "    os.mkdir(PDFText)\n",
    "except:\n",
    "    print('directory already exists. Cleaning out for next data run')\n",
    "    for file in os.listdir(PDFText):\n",
    "        os.remove(os.path.join(PDFText, file))\n",
    "TextSave=os.path.join(PDFText,'.'.join(os.path.basename(targetImage).split('.')[:-1]))"
   ]
  },
  {
   "cell_type": "code",
   "execution_count": 9,
   "metadata": {},
   "outputs": [],
   "source": [
    "for image in os.listdir(PDFImages):\n",
    "    tesseractTarget=os.path.join(PDFImages, image)\n",
    "    tesseractOutput=os.path.join(PDFText,'.'.join(image.split('.')[:-1]))\n",
    "    p = os.popen('Tesseract\\\\tesseract.exe %s %s -l eng'%(tesseractTarget, tesseractOutput))"
   ]
  },
  {
   "cell_type": "markdown",
   "metadata": {},
   "source": [
    "#### Looking at the extracted text:"
   ]
  },
  {
   "cell_type": "code",
   "execution_count": 10,
   "metadata": {},
   "outputs": [
    {
     "data": {
      "text/plain": [
       "['f1040-001.txt', 'f1040-002.txt']"
      ]
     },
     "execution_count": 10,
     "metadata": {},
     "output_type": "execute_result"
    }
   ],
   "source": [
    "os.listdir(PDFText)"
   ]
  },
  {
   "cell_type": "code",
   "execution_count": 11,
   "metadata": {},
   "outputs": [],
   "source": [
    "extractedTextFull=open(os.path.join(PDFText,'f1040-001.txt')).read()"
   ]
  },
  {
   "cell_type": "code",
   "execution_count": 12,
   "metadata": {},
   "outputs": [
    {
     "name": "stdout",
     "output_type": "stream",
     "text": [
      "Â£1040\n",
      "Department of the Treasuryâ€”Internal Revenue Service\n",
      "U.S. Individual Income Tax Return\n",
      "(99)\n",
      "2018\n",
      "OMB No. 1545-0074 | IRS Use Onlyâ€”Do not write or staple in this space.\n",
      "Filing status: [_] Single\n",
      "LC] Married filing jointly LC] Married filing separately LC Head of household CL] Qualifying widow(er)\n",
      "Your first name and initial\n",
      "Last name\n",
      "Your social security number\n",
      "Your standard deduction:\n",
      "CL Someone can claim you as a dependent\n",
      "LE] You were born before January 2, 1954\n",
      "| You are blind\n",
      "If joint return, spouse's first name and initial\n",
      "Last name\n",
      "Spouseâ€™s social security number\n",
      "Spouse standard deduction: CO Someone can claim your spouse as a dependent\n",
      "L] Spouse is blind\n",
      "CO Spouse was born before January 2, 1954\n",
      "CL Spouse itemizes on a separate return or you were dual-status alien\n",
      "EC] Full-year health care coverage\n",
      "or exempt (see inst.)\n",
      "Home address (number and street). If you have a P.O. box, see instructions.\n",
      "Apt. no.\n",
      "Presidential Election Campaign\n",
      "(See inst.) [_] You [[] Spouse\n",
      "City, town or post office, state, and ZIP code. If you have a foreign address, attach Schedule 6.\n",
      "If more than four dependents,\n",
      "see inst. and V here > |\n",
      "Dependents (see instructions):\n",
      "(1) First name\n",
      "Last name\n",
      "(2) Social security number\n",
      "(3) Relationship to you\n",
      "(4) V if qualifies for (see inst.):\n",
      "Child tax credit\n",
      "Credit for other dependents\n",
      "LC]\n",
      "L\n",
      "LC]\n",
      "L\n",
      "LC]\n",
      "L\n",
      "O\n",
      "O\n",
      "Sign\n",
      "Here\n",
      "Joint return?\n",
      "See instructions.\n",
      "Under penalties of perjury, | declare that | have examined this return and accompanying schedules and statements, and to the best of my knowledge and belief, they are true,\n",
      "correct, and complete. Declaration of preparer (other than taxpayer) is based on all information of which preparer has any knowledge.\n",
      "Keep a copy for\n",
      "your records.\n",
      "Your signature Date Your occupation If the IRS sent you an Identity Protection\n",
      "PIN, enter it\n",
      "here (see inst, |\n",
      "Spouseâ€™s signature. If a joint return, both must sign. | Date Spouseâ€™s occupation If the IRS sent you an Identity Protection\n",
      "PIN, enter it\n",
      "here (see inst.) | | | | |\n",
      ". Preparerâ€™s name Preparerâ€™s signature PTIN Firmâ€™s EIN Check if:\n",
      "Paid [J ard Party Desi\n",
      "r al lesignee\n",
      "Preparer TF sei-empoyed\n",
      "Firmâ€™s name & Phone no. elf-employer\n",
      "Use Only\n",
      "Firmâ€™s address >\n",
      "For Disclosure, Privacy Act, and Paperwork Reduction Act Notice, see separate instructions.\n",
      "Cat. No. 11320B\n",
      "Form 1040 (2018)\n"
     ]
    }
   ],
   "source": [
    "extractedTextFull='\\n'.join([elm.strip() for elm in extractedTextFull.split('\\n') if len(elm.strip())>0])\n",
    "print(extractedTextFull)"
   ]
  },
  {
   "cell_type": "markdown",
   "metadata": {},
   "source": [
    "# 3. Option to extract information between bookends:\n",
    "\n",
    "If the form has instruction language, those instructions can be used to 'bookend' interesting data to extract. We can identify where 2 sections of instructions exist, and extract the text between. Using the print out of the extracted text above, I can identify bookend instruction language around a section of interest to extract."
   ]
  },
  {
   "cell_type": "code",
   "execution_count": 13,
   "metadata": {},
   "outputs": [],
   "source": [
    "bookend1=\"Last name\"\n",
    "bookend2=\"Your standard deduction:\""
   ]
  },
  {
   "cell_type": "code",
   "execution_count": 14,
   "metadata": {},
   "outputs": [
    {
     "data": {
      "text/plain": [
       "335"
      ]
     },
     "execution_count": 14,
     "metadata": {},
     "output_type": "execute_result"
    }
   ],
   "source": [
    "extractedTextFull.index(bookend1)"
   ]
  },
  {
   "cell_type": "code",
   "execution_count": 15,
   "metadata": {},
   "outputs": [
    {
     "data": {
      "text/plain": [
       "373"
      ]
     },
     "execution_count": 15,
     "metadata": {},
     "output_type": "execute_result"
    }
   ],
   "source": [
    "extractedTextFull.index(bookend2)"
   ]
  },
  {
   "cell_type": "code",
   "execution_count": 16,
   "metadata": {},
   "outputs": [
    {
     "name": "stdout",
     "output_type": "stream",
     "text": [
      "\n",
      "Your social security number\n",
      "\n"
     ]
    }
   ],
   "source": [
    "print(extractedTextFull[extractedTextFull.index(bookend1)+len(bookend1):extractedTextFull.index(bookend2)])"
   ]
  },
  {
   "cell_type": "markdown",
   "metadata": {},
   "source": [
    "# 4. Clean up temp directory\n",
    "Once everything has been completed, the temp files that were generated should be deleted."
   ]
  },
  {
   "cell_type": "code",
   "execution_count": 17,
   "metadata": {},
   "outputs": [],
   "source": [
    "for folder in ['PDFImages','PDFText']:\n",
    "    try:\n",
    "        for file in os.listdir(os.path.join(tempDir, folder)):\n",
    "            os.remove(os.path.join(tempDir, folder,file))\n",
    "        os.rmdir(os.path.join(tempDir, folder))\n",
    "    except:\n",
    "        print('Something went wrong with ',folder)\n",
    "os.rmdir(tempDir)"
   ]
  },
  {
   "cell_type": "code",
   "execution_count": null,
   "metadata": {},
   "outputs": [],
   "source": []
  }
 ],
 "metadata": {
  "kernelspec": {
   "display_name": "Python 3",
   "language": "python",
   "name": "python3"
  },
  "language_info": {
   "codemirror_mode": {
    "name": "ipython",
    "version": 3
   },
   "file_extension": ".py",
   "mimetype": "text/x-python",
   "name": "python",
   "nbconvert_exporter": "python",
   "pygments_lexer": "ipython3",
   "version": "3.6.8"
  }
 },
 "nbformat": 4,
 "nbformat_minor": 4
}
