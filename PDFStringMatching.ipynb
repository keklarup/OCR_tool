{
 "cells": [
  {
   "cell_type": "markdown",
   "metadata": {},
   "source": [
    "## A short notebook demoing how the OCR'd pdf can be used to find string matches\n",
    "\n",
    "### Pipeline:\n",
    "1. Given folder with many PDFs, convert all pages of all PDFs into PNGs\n",
    "2. Given a folder with many PNGs, extract text using Tesseract.\n",
    "3. Use string matching to find term(s) of interest in collection.\n",
    "\n",
    "### Tools:\n",
    "* ghostscript -- to convert pdfs to images so that they can be OCR'd.\n",
    "* tesseract -- to extract text from images\n",
    "* python -- glue to run ghostscript, tesseract, perform image manipulations, and compile results\n",
    "\n",
    "#### The main features of this notebook (converting PDFs to PNGs and OCRing PNGs to extract text) are not done by Python. They are being done by command line tools GhostScript and Tesseract. Those need to be installed before this notebook will do anything.\n",
    "\n",
    "Starter places for easy installs of those tools:\n",
    "1. Tesseract: https://github.com/UB-Mannheim/tesseract/wiki -- A full installer for Windows. But hosted outside the US. Domestic installers for older versions of Tesseract may be found here: https://github.com/tesseract-ocr/tesseract/wiki/4.0-with-LSTM#400-alpha-for-windows\n",
    "\n",
    "2. Ghostscript: https://www.ghostscript.com/download/gsdnld.html\n",
    "\n",
    "#### Ghostscript and Tesseract where both installed on a Windows 10 laptop when creating this demo. The tools were installed in subfolders of this projects folder. When being called by the Python OS package in the code below, the relative filepath is being given to the executable application files. "
   ]
  },
  {
   "cell_type": "code",
   "execution_count": 1,
   "metadata": {},
   "outputs": [],
   "source": [
    "import os #for navigating folder structures and running command line tools ghostscript and tesseract\n",
    "import matplotlib.pyplot as plt #for visualizing steps in this notebook\n",
    "from PIL import Image #for visualizing results\n",
    "import tempfile\n",
    "import numpy as np #for some image manipulation\n",
    "import pandas as pd #to make a excel-like dataframe of the results"
   ]
  },
  {
   "cell_type": "markdown",
   "metadata": {},
   "source": [
    "Because this process can create a lot of intermediate files, creating a temp directory for those to make clean up easier after completion."
   ]
  },
  {
   "cell_type": "code",
   "execution_count": 29,
   "metadata": {},
   "outputs": [],
   "source": [
    "tempDir=tempfile.mkdtemp(dir=os.getcwd())"
   ]
  },
  {
   "cell_type": "markdown",
   "metadata": {},
   "source": [
    "## 1. Convert collection of PDFs into images:"
   ]
  },
  {
   "cell_type": "code",
   "execution_count": 30,
   "metadata": {},
   "outputs": [],
   "source": [
    "targetFolder='examplePDFs' #change this filepath to target a different collection of PDFs"
   ]
  },
  {
   "cell_type": "code",
   "execution_count": 31,
   "metadata": {},
   "outputs": [
    {
     "name": "stdout",
     "output_type": "stream",
     "text": [
      "claim-form-cms-1500.pdf\n",
      "f1040.pdf\n"
     ]
    }
   ],
   "source": [
    "for pdf in os.listdir(targetFolder):\n",
    "    print(pdf)"
   ]
  },
  {
   "cell_type": "code",
   "execution_count": 32,
   "metadata": {},
   "outputs": [],
   "source": [
    "#save location:\n",
    "PDFImages=os.path.join(tempDir, 'PDFImages')\n",
    "try:\n",
    "    os.mkdir(PDFImages)\n",
    "except:\n",
    "    print('directory already exists. Cleaning out for next data run')\n",
    "    for file in os.listdir(PDFImages):\n",
    "        os.remove(os.path.join(PDFImages, file))"
   ]
  },
  {
   "cell_type": "code",
   "execution_count": 33,
   "metadata": {},
   "outputs": [
    {
     "name": "stdout",
     "output_type": "stream",
     "text": [
      "GPL Ghostscript 9.27 (2019-04-04)\n",
      "Copyright (C) 2018 Artifex Software, Inc.  All rights reserved.\n",
      "This software is supplied under the GNU AGPLv3 and comes with NO WARRANTY:\n",
      "see the file COPYING for details.\n",
      "Processing pages 1 through 2.\n",
      "Page 1\n",
      "Page 2\n",
      "\n",
      "GPL Ghostscript 9.27 (2019-04-04)\n",
      "Copyright (C) 2018 Artifex Software, Inc.  All rights reserved.\n",
      "This software is supplied under the GNU AGPLv3 and comes with NO WARRANTY:\n",
      "see the file COPYING for details.\n",
      "Processing pages 1 through 2.\n",
      "Page 1\n",
      "Page 2\n",
      "\n"
     ]
    }
   ],
   "source": [
    "for pdf in os.listdir(targetFolder):\n",
    "    targetPDF=os.path.join(targetFolder, pdf);\n",
    "    imageSave=os.path.join(PDFImages,\n",
    "                       '.'.join(os.path.basename(targetPDF).split('.')[:-1])+'-%03d.png') \\\n",
    "                        #add page number for multipage PDFs when creating images.\n",
    "    p = os.popen(\"GhostScript\\\\gs9.27\\\\bin\\\\gswin64c.exe -sDEVICE=pngalpha -sOutputFile=%s -dBATCH -dNOPAUSE -r288 %s\"%(imageSave, targetPDF))\n",
    "    print(p.read())"
   ]
  },
  {
   "cell_type": "code",
   "execution_count": 34,
   "metadata": {},
   "outputs": [
    {
     "data": {
      "text/plain": [
       "['claim-form-cms-1500-001.png',\n",
       " 'claim-form-cms-1500-002.png',\n",
       " 'f1040-001.png',\n",
       " 'f1040-002.png']"
      ]
     },
     "execution_count": 34,
     "metadata": {},
     "output_type": "execute_result"
    }
   ],
   "source": [
    "os.listdir(PDFImages)"
   ]
  },
  {
   "cell_type": "markdown",
   "metadata": {},
   "source": [
    "## 2. OCR all files"
   ]
  },
  {
   "cell_type": "code",
   "execution_count": 35,
   "metadata": {},
   "outputs": [],
   "source": [
    "#save location:\n",
    "PDFText=os.path.join(tempDir, 'PDFText')\n",
    "try:\n",
    "    os.mkdir(PDFText)\n",
    "except:\n",
    "    print('directory already exists. Cleaning out for next data run')\n",
    "    for file in os.listdir(PDFText):\n",
    "        os.remove(os.path.join(PDFText, file))"
   ]
  },
  {
   "cell_type": "code",
   "execution_count": 36,
   "metadata": {},
   "outputs": [],
   "source": [
    "for image in os.listdir(PDFImages):\n",
    "    tesseractTarget=os.path.join(PDFImages, image)\n",
    "    tesseractOutput=os.path.join(PDFText,'.'.join(image.split('.')[:-1]))\n",
    "    p = os.popen('Tesseract\\\\tesseract.exe %s %s -l eng'%(tesseractTarget, tesseractOutput))"
   ]
  },
  {
   "cell_type": "markdown",
   "metadata": {},
   "source": [
    "## 3. Find files that have term of interest"
   ]
  },
  {
   "cell_type": "code",
   "execution_count": 37,
   "metadata": {},
   "outputs": [],
   "source": [
    "termOfInterest='medicaid'"
   ]
  },
  {
   "cell_type": "code",
   "execution_count": 62,
   "metadata": {},
   "outputs": [
    {
     "name": "stdout",
     "output_type": "stream",
     "text": [
      "claim-form-cms-1500-001.txt\n",
      "178\n",
      "FORM CLAIM COMMITTEE (NUCC) 0242\n",
      "ama PICA | |]\n",
      "_ MEDICARE MEDICAID TRICARE CHAMPVA OTHER] 1a. INSURED'S LD. NUMBER (For Program in item 4)\n",
      "HEALTH PLAN Ek\n",
      "isch\n",
      "--------------\n",
      "claim-form-cms-1500-002.txt\n",
      "7887\n",
      "rotection Act of 1988â, permits the government to verify information by way of computer matches.\n",
      "MEDICAID PAYMENTS (PROVIDER CERTIFICATION)\n",
      "| hereby agree to keep such records as are necessary to d\n",
      "--------------\n",
      "8312\n",
      "Human Services may request.\n",
      "| further agree to accept, as payment in full, the amount paid by the Medicaid program for those claims submitted for payment under that program, with the exception\n",
      "of aut\n",
      "--------------\n"
     ]
    }
   ],
   "source": [
    "for file in os.listdir(PDFText):\n",
    "    text=open(os.path.join(PDFText,file),encoding='latin-1').read()\n",
    "    #print(len(text))\n",
    "    if termOfInterest.lower() in text.lower():\n",
    "        print(file)\n",
    "        stepCount=0\n",
    "        while stepCount<len(text):\n",
    "            try:\n",
    "                i=text.lower()[stepCount:].index(termOfInterest.lower())\n",
    "                stepCount=stepCount+i+1\n",
    "                print(stepCount)\n",
    "                print('\\n'.join([elm for elm in text[stepCount-100:stepCount+100].split('\\n') if len(elm.strip())>0]))\n",
    "                print('--------------')\n",
    "            except:\n",
    "                stepCount=len(text)+1"
   ]
  },
  {
   "cell_type": "markdown",
   "metadata": {},
   "source": [
    "## Cleanup"
   ]
  },
  {
   "cell_type": "code",
   "execution_count": 64,
   "metadata": {},
   "outputs": [
    {
     "name": "stdout",
     "output_type": "stream",
     "text": [
      "Something went wrong with  PDFText\n"
     ]
    }
   ],
   "source": [
    "for folder in ['PDFImages','PDFText']:\n",
    "    try:\n",
    "        for file in os.listdir(os.path.join(tempDir, folder)):\n",
    "            os.remove(os.path.join(tempDir, folder,file))\n",
    "        os.rmdir(os.path.join(tempDir, folder))\n",
    "    except:\n",
    "        print('Something went wrong with ',folder)\n",
    "os.rmdir(tempDir)"
   ]
  },
  {
   "cell_type": "code",
   "execution_count": null,
   "metadata": {},
   "outputs": [],
   "source": []
  }
 ],
 "metadata": {
  "kernelspec": {
   "display_name": "Python 3",
   "language": "python",
   "name": "python3"
  },
  "language_info": {
   "codemirror_mode": {
    "name": "ipython",
    "version": 3
   },
   "file_extension": ".py",
   "mimetype": "text/x-python",
   "name": "python",
   "nbconvert_exporter": "python",
   "pygments_lexer": "ipython3",
   "version": "3.6.8"
  }
 },
 "nbformat": 4,
 "nbformat_minor": 4
}
